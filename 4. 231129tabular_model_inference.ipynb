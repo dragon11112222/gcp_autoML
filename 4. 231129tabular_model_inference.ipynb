{
 "cells": [
  {
   "cell_type": "code",
   "execution_count": 3,
   "id": "3a43364d-0f2e-470d-8189-20007dc191ed",
   "metadata": {
    "tags": []
   },
   "outputs": [
    {
     "name": "stdout",
     "output_type": "stream",
     "text": [
      "{\"time\":\"29/11/2023 12:29:04.610880\",\"severity\":\"INFO\",\"msg\":\"Start gcsfuse/1.2.0 (Go version go1.21.0) for app \\\"\\\" using mount point: /home/jupyter/bucket2\\n\"}\n"
     ]
    }
   ],
   "source": [
    "import os\n",
    "\n",
    "BUCKET_NAME='titanic-automl231128'\n",
    "MOUNT_PATH ='/home/jupyter/bucket2'\n",
    "os.makedirs(MOUNT_PATH, exist_ok = True)\n",
    "!gcsfuse --implicit-dirs {BUCKET_NAME} {MOUNT_PATH}"
   ]
  },
  {
   "cell_type": "markdown",
   "id": "f20cbb69-ce9d-47c3-a20a-c791de1e86df",
   "metadata": {},
   "source": [
    "참조 : https://github.com/googleapis/python-aiplatform/blob/main/samples/snippets/prediction_service/predict_tabular_classification_sample.py"
   ]
  },
  {
   "cell_type": "code",
   "execution_count": 4,
   "id": "4d96f67e-cea7-451b-8fa3-eaf26667e1d8",
   "metadata": {
    "tags": []
   },
   "outputs": [],
   "source": [
    "from typing import Dict\n",
    "\n",
    "from google.cloud import aiplatform\n",
    "from google.protobuf import json_format\n",
    "from google.protobuf.struct_pb2 import Value\n",
    "\n",
    "\n",
    "from typing import Dict\n",
    "\n",
    "from google.cloud import aiplatform\n",
    "from google.protobuf import json_format\n",
    "from google.protobuf.struct_pb2 import Value\n",
    "\n",
    "\n",
    "def predict_tabular_classification_sample(\n",
    "    project: str,\n",
    "    endpoint_id: str,\n",
    "    instance_dict: Dict,\n",
    "    location: str = \"us-central1\",\n",
    "    api_endpoint: str = \"us-central1-aiplatform.googleapis.com\",\n",
    "):\n",
    "    # The AI Platform services require regional API endpoints.\n",
    "    client_options = {\"api_endpoint\": api_endpoint}\n",
    "    # Initialize client that will be used to create and send requests.\n",
    "    # This client only needs to be created once, and can be reused for multiple requests.\n",
    "    client = aiplatform.gapic.PredictionServiceClient(client_options=client_options)\n",
    "    # for more info on the instance schema, please use get_model_sample.py\n",
    "    # and look at the yaml found in instance_schema_uri\n",
    "    instance = json_format.ParseDict(instance_dict, Value())\n",
    "    instances = [instance]\n",
    "    parameters_dict = {}\n",
    "    parameters = json_format.ParseDict(parameters_dict, Value())\n",
    "    endpoint = client.endpoint_path(\n",
    "        project=project, location=location, endpoint=endpoint_id\n",
    "    )\n",
    "    response = client.predict(\n",
    "        endpoint=endpoint, instances=instances, parameters=parameters\n",
    "    )\n",
    "    print(\"response\")\n",
    "    print(\" deployed_model_id:\", response.deployed_model_id)\n",
    "    # See gs://google-cloud-aiplatform/schema/predict/prediction/tabular_classification_1.0.0.yaml for the format of the predictions.\n",
    "    predictions = response.predictions\n",
    "    for prediction in predictions:\n",
    "        print(\" prediction:\", dict(prediction))"
   ]
  },
  {
   "cell_type": "code",
   "execution_count": 5,
   "id": "b6bac333-1438-4c40-bbd7-38abc6262729",
   "metadata": {
    "tags": []
   },
   "outputs": [
    {
     "name": "stdout",
     "output_type": "stream",
     "text": [
      "/home/jupyter/bucket2\n"
     ]
    }
   ],
   "source": [
    "%cd {MOUNT_PATH}"
   ]
  },
  {
   "cell_type": "code",
   "execution_count": 8,
   "id": "ba342290-5200-4c12-ac18-99c20ec8b5ef",
   "metadata": {
    "tags": []
   },
   "outputs": [
    {
     "data": {
      "text/html": [
       "<div>\n",
       "<style scoped>\n",
       "    .dataframe tbody tr th:only-of-type {\n",
       "        vertical-align: middle;\n",
       "    }\n",
       "\n",
       "    .dataframe tbody tr th {\n",
       "        vertical-align: top;\n",
       "    }\n",
       "\n",
       "    .dataframe thead th {\n",
       "        text-align: right;\n",
       "    }\n",
       "</style>\n",
       "<table border=\"1\" class=\"dataframe\">\n",
       "  <thead>\n",
       "    <tr style=\"text-align: right;\">\n",
       "      <th></th>\n",
       "      <th>Pclass</th>\n",
       "      <th>Sex</th>\n",
       "      <th>Age</th>\n",
       "      <th>SibSp</th>\n",
       "      <th>Parch</th>\n",
       "      <th>Fare</th>\n",
       "      <th>Embarked</th>\n",
       "      <th>Age_Cat</th>\n",
       "      <th>FamilySize</th>\n",
       "      <th>Survived</th>\n",
       "    </tr>\n",
       "  </thead>\n",
       "  <tbody>\n",
       "    <tr>\n",
       "      <th>0</th>\n",
       "      <td>3</td>\n",
       "      <td>1</td>\n",
       "      <td>1.0</td>\n",
       "      <td>0</td>\n",
       "      <td>0</td>\n",
       "      <td>7.7500</td>\n",
       "      <td>1</td>\n",
       "      <td>5</td>\n",
       "      <td>1</td>\n",
       "      <td>0</td>\n",
       "    </tr>\n",
       "    <tr>\n",
       "      <th>1</th>\n",
       "      <td>2</td>\n",
       "      <td>1</td>\n",
       "      <td>1.0</td>\n",
       "      <td>0</td>\n",
       "      <td>0</td>\n",
       "      <td>10.5000</td>\n",
       "      <td>2</td>\n",
       "      <td>5</td>\n",
       "      <td>1</td>\n",
       "      <td>0</td>\n",
       "    </tr>\n",
       "    <tr>\n",
       "      <th>2</th>\n",
       "      <td>3</td>\n",
       "      <td>0</td>\n",
       "      <td>1.0</td>\n",
       "      <td>1</td>\n",
       "      <td>2</td>\n",
       "      <td>23.4500</td>\n",
       "      <td>2</td>\n",
       "      <td>5</td>\n",
       "      <td>4</td>\n",
       "      <td>0</td>\n",
       "    </tr>\n",
       "    <tr>\n",
       "      <th>3</th>\n",
       "      <td>3</td>\n",
       "      <td>0</td>\n",
       "      <td>1.0</td>\n",
       "      <td>0</td>\n",
       "      <td>0</td>\n",
       "      <td>7.8792</td>\n",
       "      <td>1</td>\n",
       "      <td>5</td>\n",
       "      <td>1</td>\n",
       "      <td>1</td>\n",
       "    </tr>\n",
       "    <tr>\n",
       "      <th>4</th>\n",
       "      <td>3</td>\n",
       "      <td>1</td>\n",
       "      <td>1.0</td>\n",
       "      <td>0</td>\n",
       "      <td>0</td>\n",
       "      <td>8.0500</td>\n",
       "      <td>2</td>\n",
       "      <td>5</td>\n",
       "      <td>1</td>\n",
       "      <td>0</td>\n",
       "    </tr>\n",
       "  </tbody>\n",
       "</table>\n",
       "</div>"
      ],
      "text/plain": [
       "   Pclass  Sex  Age  SibSp  Parch     Fare  Embarked  Age_Cat  FamilySize  \\\n",
       "0       3    1  1.0      0      0   7.7500         1        5           1   \n",
       "1       2    1  1.0      0      0  10.5000         2        5           1   \n",
       "2       3    0  1.0      1      2  23.4500         2        5           4   \n",
       "3       3    0  1.0      0      0   7.8792         1        5           1   \n",
       "4       3    1  1.0      0      0   8.0500         2        5           1   \n",
       "\n",
       "   Survived  \n",
       "0         0  \n",
       "1         0  \n",
       "2         0  \n",
       "3         1  \n",
       "4         0  "
      ]
     },
     "execution_count": 8,
     "metadata": {},
     "output_type": "execute_result"
    }
   ],
   "source": [
    "import pandas as pd\n",
    "\n",
    "df = pd.read_csv('titanic_test.csv')\n",
    "df.head()"
   ]
  },
  {
   "cell_type": "code",
   "execution_count": 18,
   "id": "7a4c0af2-205c-48d5-8a8b-ec79d537ec3a",
   "metadata": {
    "tags": []
   },
   "outputs": [
    {
     "name": "stdout",
     "output_type": "stream",
     "text": [
      "<class 'pandas.core.frame.DataFrame'>\n",
      "RangeIndex: 90 entries, 0 to 89\n",
      "Data columns (total 10 columns):\n",
      " #   Column      Non-Null Count  Dtype  \n",
      "---  ------      --------------  -----  \n",
      " 0   Pclass      90 non-null     int64  \n",
      " 1   Sex         90 non-null     int64  \n",
      " 2   Age         90 non-null     float64\n",
      " 3   SibSp       90 non-null     int64  \n",
      " 4   Parch       90 non-null     int64  \n",
      " 5   Fare        90 non-null     float64\n",
      " 6   Embarked    90 non-null     int64  \n",
      " 7   Age_Cat     90 non-null     int64  \n",
      " 8   FamilySize  90 non-null     int64  \n",
      " 9   Survived    90 non-null     int64  \n",
      "dtypes: float64(2), int64(8)\n",
      "memory usage: 7.2 KB\n"
     ]
    }
   ],
   "source": [
    "df.info()"
   ]
  },
  {
   "cell_type": "code",
   "execution_count": 19,
   "id": "7e2843f8-4ab8-45a2-9338-5c35c416d614",
   "metadata": {
    "tags": []
   },
   "outputs": [
    {
     "name": "stdout",
     "output_type": "stream",
     "text": [
      "<class 'pandas.core.frame.DataFrame'>\n",
      "RangeIndex: 1602 entries, 0 to 1601\n",
      "Data columns (total 10 columns):\n",
      " #   Column      Non-Null Count  Dtype  \n",
      "---  ------      --------------  -----  \n",
      " 0   Pclass      1602 non-null   int64  \n",
      " 1   Sex         1602 non-null   int64  \n",
      " 2   Age         1602 non-null   float64\n",
      " 3   SibSp       1602 non-null   int64  \n",
      " 4   Parch       1602 non-null   int64  \n",
      " 5   Fare        1602 non-null   float64\n",
      " 6   Embarked    1602 non-null   int64  \n",
      " 7   Age_Cat     1602 non-null   int64  \n",
      " 8   FamilySize  1602 non-null   int64  \n",
      " 9   Survived    1602 non-null   int64  \n",
      "dtypes: float64(2), int64(8)\n",
      "memory usage: 125.3 KB\n"
     ]
    }
   ],
   "source": [
    "train_df = pd.read_csv('titanic_train.csv')\n",
    "train_df.info()"
   ]
  },
  {
   "cell_type": "code",
   "execution_count": 7,
   "id": "1c1cce27-2bcc-411d-ac61-24aea600b554",
   "metadata": {
    "tags": []
   },
   "outputs": [],
   "source": [
    "# test_label = df['Survived']\n",
    "# df.drop('Survived', axis=1, inplace=True)"
   ]
  },
  {
   "cell_type": "code",
   "execution_count": 29,
   "id": "bbb7b4c3-b081-4b01-9e42-6d1a559b24d1",
   "metadata": {
    "tags": []
   },
   "outputs": [],
   "source": [
    "# for i in range(len(df)):\n",
    "i = 0\n",
    "INSTANCE = df.drop('Survived', axis=1).to_dict(orient = 'records')[i]"
   ]
  },
  {
   "cell_type": "code",
   "execution_count": 30,
   "id": "a962ccd1-a079-4d49-9778-f339e6b67580",
   "metadata": {
    "tags": []
   },
   "outputs": [
    {
     "data": {
      "text/plain": [
       "{'Pclass': 3,\n",
       " 'Sex': 1,\n",
       " 'Age': 1.0,\n",
       " 'SibSp': 0,\n",
       " 'Parch': 0,\n",
       " 'Fare': 7.75,\n",
       " 'Embarked': 1,\n",
       " 'Age_Cat': 5,\n",
       " 'FamilySize': 1}"
      ]
     },
     "execution_count": 30,
     "metadata": {},
     "output_type": "execute_result"
    }
   ],
   "source": [
    "INSTANCE"
   ]
  },
  {
   "cell_type": "code",
   "execution_count": 31,
   "id": "6c1969fd-4f72-4802-b8e9-c963f3f098ae",
   "metadata": {
    "tags": []
   },
   "outputs": [],
   "source": [
    "for key in INSTANCE:\n",
    "    # print(key)\n",
    "    INSTANCE[key] = str(INSTANCE[key])"
   ]
  },
  {
   "cell_type": "code",
   "execution_count": 32,
   "id": "daa7805e-266a-4c32-81b5-fcdea4662d0c",
   "metadata": {
    "tags": []
   },
   "outputs": [
    {
     "data": {
      "text/plain": [
       "{'Pclass': '3',\n",
       " 'Sex': '1',\n",
       " 'Age': '1.0',\n",
       " 'SibSp': '0',\n",
       " 'Parch': '0',\n",
       " 'Fare': '7.75',\n",
       " 'Embarked': '1',\n",
       " 'Age_Cat': '5',\n",
       " 'FamilySize': '1'}"
      ]
     },
     "execution_count": 32,
     "metadata": {},
     "output_type": "execute_result"
    }
   ],
   "source": [
    "INSTANCE"
   ]
  },
  {
   "cell_type": "code",
   "execution_count": 33,
   "id": "55963198-b74b-44ed-81b5-3414de1d64e7",
   "metadata": {
    "tags": []
   },
   "outputs": [
    {
     "name": "stdout",
     "output_type": "stream",
     "text": [
      "response\n",
      " deployed_model_id: 441781573017141248\n",
      " prediction: {'scores': [0.8515641093254089, 0.1484359949827194], 'classes': ['0', '1']}\n"
     ]
    }
   ],
   "source": [
    "predict_tabular_classification_sample(\n",
    "    project=\"프로젝트번호자기꺼\",\n",
    "    endpoint_id=\"해당엔드포인트아이디\",\n",
    "    location=\"us-central1\",\n",
    "    instance_dict=INSTANCE\n",
    ")"
   ]
  },
  {
   "cell_type": "code",
   "execution_count": null,
   "id": "70bd4619-f33d-408f-878a-8268a179e096",
   "metadata": {},
   "outputs": [],
   "source": [
    "'''\n",
    "INSTANCE = {\n",
    "    \"petal_length\": \"1.4\",\n",
    "    \"petal_width\": \"1.3\",\n",
    "    \"sepal_length\": \"5.1\",\n",
    "    \"sepal_width\": \"2.8\",\n",
    "}\n",
    "\n",
    "predict_tabular_classification_sample(\n",
    "    project=\"959298622983\",\n",
    "    endpoint_id=\"4467836912165453824\",\n",
    "    location=\"us-central1\",\n",
    "    instance_dict=INSTANCE\n",
    ")\n",
    "'''"
   ]
  }
 ],
 "metadata": {
  "environment": {
   "kernel": "python3",
   "name": "tf2-cpu.2-11.m113",
   "type": "gcloud",
   "uri": "gcr.io/deeplearning-platform-release/tf2-cpu.2-11:m113"
  },
  "kernelspec": {
   "display_name": "Python 3",
   "language": "python",
   "name": "python3"
  },
  "language_info": {
   "codemirror_mode": {
    "name": "ipython",
    "version": 3
   },
   "file_extension": ".py",
   "mimetype": "text/x-python",
   "name": "python",
   "nbconvert_exporter": "python",
   "pygments_lexer": "ipython3",
   "version": "3.10.13"
  }
 },
 "nbformat": 4,
 "nbformat_minor": 5
}
