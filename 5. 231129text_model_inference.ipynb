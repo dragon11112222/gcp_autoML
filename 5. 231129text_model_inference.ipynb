{
 "cells": [
  {
   "cell_type": "markdown",
   "id": "6a70c49b-55bf-43b6-bb19-1e69ee72f101",
   "metadata": {},
   "source": [
    "출처 : https://github.com/googleapis/python-aiplatform/blob/main/samples/snippets/prediction_service/predict_text_classification_single_label_sample.py"
   ]
  },
  {
   "cell_type": "code",
   "execution_count": 2,
   "id": "5eb00cd9-0321-4901-b002-7cc94a34a7c0",
   "metadata": {
    "tags": []
   },
   "outputs": [],
   "source": [
    "from google.cloud import aiplatform\n",
    "from google.cloud.aiplatform.gapic.schema import predict\n",
    "from google.protobuf import json_format\n",
    "from google.protobuf.struct_pb2 import Value\n",
    "\n",
    "\n",
    "def predict_text_classification_single_label_sample(\n",
    "    project: str,\n",
    "    endpoint_id: str,\n",
    "    content: str,\n",
    "    location: str = \"us-central1\",\n",
    "    api_endpoint: str = \"us-central1-aiplatform.googleapis.com\",\n",
    "):\n",
    "    # The AI Platform services require regional API endpoints.\n",
    "    client_options = {\"api_endpoint\": api_endpoint}\n",
    "    # Initialize client that will be used to create and send requests.\n",
    "    # This client only needs to be created once, and can be reused for multiple requests.\n",
    "    client = aiplatform.gapic.PredictionServiceClient(client_options=client_options)\n",
    "    instance = predict.instance.TextClassificationPredictionInstance(\n",
    "        content=content,\n",
    "    ).to_value()\n",
    "    instances = [instance]\n",
    "    parameters_dict = {}\n",
    "    parameters = json_format.ParseDict(parameters_dict, Value())\n",
    "    endpoint = client.endpoint_path(\n",
    "        project=project, location=location, endpoint=endpoint_id\n",
    "    )\n",
    "    response = client.predict(\n",
    "        endpoint=endpoint, instances=instances, parameters=parameters\n",
    "    )\n",
    "    print(\"response\")\n",
    "    print(\" deployed_model_id:\", response.deployed_model_id)\n",
    "\n",
    "    predictions = response.predictions\n",
    "    for prediction in predictions:  ## 결과값을 그냥 보여주는 용도.\n",
    "        print(\" prediction:\", dict(prediction))\n",
    "    \n",
    "    # return predictions  ## 결과값을 객체로 받아서 활용하게끔 하는 용도."
   ]
  },
  {
   "cell_type": "code",
   "execution_count": 5,
   "id": "12c05006-25a3-413d-9cf3-00d848e069d2",
   "metadata": {
    "tags": []
   },
   "outputs": [
    {
     "name": "stdout",
     "output_type": "stream",
     "text": [
      "response\n",
      " deployed_model_id: 1811438809691193344\n",
      " prediction: {'confidences': [0.9998401403427124, 0.0001598117669345811], 'ids': ['1780105202200739840', '4085948211414433792'], 'displayNames': ['ham', 'spam']}\n"
     ]
    }
   ],
   "source": [
    "predict_text_classification_single_label_sample(\n",
    "    project=\"437709394123\",\n",
    "    endpoint_id=\"819358264041930752\",\n",
    "    location=\"us-central1\",\n",
    "    content=\"thank you for your attendance\"\n",
    ")"
   ]
  },
  {
   "cell_type": "code",
   "execution_count": 6,
   "id": "2baf294c-02e9-4bdd-a0b1-33d586d3ea62",
   "metadata": {
    "tags": []
   },
   "outputs": [
    {
     "name": "stdout",
     "output_type": "stream",
     "text": [
      "response\n",
      " deployed_model_id: 1811438809691193344\n",
      " prediction: {'displayNames': ['ham', 'spam'], 'confidences': [0.9999076128005981, 9.234060416929424e-05], 'ids': ['1780105202200739840', '4085948211414433792']}\n"
     ]
    }
   ],
   "source": [
    "predict_text_classification_single_label_sample(\n",
    "    project=\"437709394123\",\n",
    "    endpoint_id=\"819358264041930752\",\n",
    "    location=\"us-central1\",\n",
    "    content=\"Don't miss the chance\"\n",
    ")"
   ]
  },
  {
   "cell_type": "code",
   "execution_count": null,
   "id": "53afc05b-4e32-4a74-a816-5e5968f4e4c6",
   "metadata": {},
   "outputs": [],
   "source": []
  }
 ],
 "metadata": {
  "environment": {
   "kernel": "python3",
   "name": "tf2-cpu.2-11.m113",
   "type": "gcloud",
   "uri": "gcr.io/deeplearning-platform-release/tf2-cpu.2-11:m113"
  },
  "kernelspec": {
   "display_name": "Python 3",
   "language": "python",
   "name": "python3"
  },
  "language_info": {
   "codemirror_mode": {
    "name": "ipython",
    "version": 3
   },
   "file_extension": ".py",
   "mimetype": "text/x-python",
   "name": "python",
   "nbconvert_exporter": "python",
   "pygments_lexer": "ipython3",
   "version": "3.10.13"
  }
 },
 "nbformat": 4,
 "nbformat_minor": 5
}
